{
 "cells": [
  {
   "cell_type": "code",
   "execution_count": 2,
   "id": "44d3ea6c",
   "metadata": {},
   "outputs": [
    {
     "ename": "ModuleNotFoundError",
     "evalue": "No module named 'supervised'",
     "output_type": "error",
     "traceback": [
      "\u001b[31m---------------------------------------------------------------------------\u001b[39m",
      "\u001b[31mModuleNotFoundError\u001b[39m                       Traceback (most recent call last)",
      "\u001b[36mCell\u001b[39m\u001b[36m \u001b[39m\u001b[32mIn[2]\u001b[39m\u001b[32m, line 7\u001b[39m\n\u001b[32m      1\u001b[39m \u001b[38;5;66;03m# ---------------------------------------\u001b[39;00m\n\u001b[32m      2\u001b[39m \u001b[38;5;66;03m# CLASSIFICAÇÃO AUTOMÁTICA DE DOENÇA CARDÍACA COM AUTO-ML (MLJAR)\u001b[39;00m\n\u001b[32m      3\u001b[39m \u001b[38;5;66;03m# ---------------------------------------\u001b[39;00m\n\u001b[32m      4\u001b[39m \n\u001b[32m      5\u001b[39m \u001b[38;5;66;03m# Importação de bibliotecas\u001b[39;00m\n\u001b[32m      6\u001b[39m \u001b[38;5;28;01mimport\u001b[39;00m\u001b[38;5;250m \u001b[39m\u001b[34;01mpandas\u001b[39;00m\u001b[38;5;250m \u001b[39m\u001b[38;5;28;01mas\u001b[39;00m\u001b[38;5;250m \u001b[39m\u001b[34;01mpd\u001b[39;00m\n\u001b[32m----> \u001b[39m\u001b[32m7\u001b[39m \u001b[38;5;28;01mfrom\u001b[39;00m\u001b[38;5;250m \u001b[39m\u001b[34;01msupervised\u001b[39;00m\u001b[34;01m.\u001b[39;00m\u001b[34;01mautoml\u001b[39;00m\u001b[38;5;250m \u001b[39m\u001b[38;5;28;01mimport\u001b[39;00m AutoML  \u001b[38;5;66;03m# Biblioteca principal do MLJAR\u001b[39;00m\n\u001b[32m      9\u001b[39m \u001b[38;5;66;03m# ---------------------------------------\u001b[39;00m\n\u001b[32m     10\u001b[39m \u001b[38;5;66;03m# 1. Carregar a base de dados\u001b[39;00m\n\u001b[32m     11\u001b[39m \u001b[38;5;66;03m# ---------------------------------------\u001b[39;00m\n\u001b[32m     12\u001b[39m \u001b[38;5;66;03m# Caminho da base (ajustado para ambiente Windows)\u001b[39;00m\n\u001b[32m     13\u001b[39m base = pd.read_csv(\u001b[33m'\u001b[39m\u001b[33m..\u001b[39m\u001b[38;5;130;01m\\\\\u001b[39;00m\u001b[33mBases\u001b[39m\u001b[38;5;130;01m\\\\\u001b[39;00m\u001b[33mOriginais\u001b[39m\u001b[38;5;130;01m\\\\\u001b[39;00m\u001b[33mpns2019.csv\u001b[39m\u001b[33m'\u001b[39m)\n",
      "\u001b[31mModuleNotFoundError\u001b[39m: No module named 'supervised'"
     ]
    }
   ],
   "source": [
    "# ---------------------------------------\n",
    "# CLASSIFICAÇÃO AUTOMÁTICA DE DOENÇA CARDÍACA COM AUTO-ML (MLJAR)\n",
    "# ---------------------------------------\n",
    "\n",
    "# Importação de bibliotecas\n",
    "import pandas as pd\n",
    "from supervised.automl import AutoML  # Biblioteca principal do MLJAR\n",
    "\n",
    "# ---------------------------------------\n",
    "# 1. Carregar a base de dados\n",
    "# ---------------------------------------\n",
    "# Caminho da base (ajustado para ambiente Windows)\n",
    "base = pd.read_csv('..\\\\Bases\\\\Originais\\\\pns2019.csv')\n",
    "\n",
    "# ---------------------------------------\n",
    "# 2. Pré-processamento inicial\n",
    "# ---------------------------------------\n",
    "\n",
    "# Remover linhas com valores ausentes\n",
    "base = base.dropna()\n",
    "\n",
    "# Remover duplicatas, se houver\n",
    "base = base.drop_duplicates()\n",
    "\n",
    "# Converter a coluna-alvo (Q03001) para binário (0 = não, 1 = sim)\n",
    "# Importante: o MLJAR funciona melhor com alvos numéricos binários\n",
    "base['Q03001'] = base['Q03001'].replace({2: 0, 1: 1})\n",
    "\n",
    "# Separar a variável alvo (target) e os preditores (features)\n",
    "X = base.drop(columns=['Q03001'])  # Todas as colunas menos a de doença\n",
    "y = base['Q03001']  # Coluna-alvo\n",
    "\n",
    "# ---------------------------------------\n",
    "# 3. Configurar o AutoML\n",
    "# ---------------------------------------\n",
    "\n",
    "# Criar o objeto AutoML com configurações ideais para classificação\n",
    "automl = AutoML(\n",
    "    mode='Compete',                # Testa vários modelos e configurações\n",
    "    algorithms=['Xgboost', 'LightGBM', 'CatBoost', 'Linear', 'RandomForest', 'ExtraTrees'],\n",
    "    eval_metric='logloss',         # Métrica de avaliação para classificação binária\n",
    "    train_ensemble=True,           # Cria um modelo final de ensemble\n",
    "    explain_level=2,               # Gera explicações visuais dos modelos\n",
    "    golden_features=True,          # Cria novas features automaticamente\n",
    "    feature_selection=True,        # Seleciona as melhores features\n",
    "    hill_climbing_steps=5,         # Ajuste de hiperparâmetros com busca local\n",
    "    stack_models=True,             # Combina modelos empilhando-os\n",
    "    results_path='AutoML_PNS2019', # Pasta onde serão salvos os relatórios\n",
    "    verbose=True                   # Exibe o progresso no terminal\n",
    ")\n",
    "\n",
    "# ---------------------------------------\n",
    "# 4. Treinar o modelo\n",
    "# ---------------------------------------\n",
    "\n",
    "automl.fit(X, y)  # Inicia todo o processo AutoML\n",
    "\n",
    "# ---------------------------------------\n",
    "# 5. Após rodar:\n",
    "# ---------------------------------------\n",
    "# A pasta \"AutoML_PNS2019\" terá:\n",
    "# - O melhor modelo salvo\n",
    "# - Relatórios de performance\n",
    "# - Gráficos de importância de variáveis\n",
    "# - Comparação entre modelos\n"
   ]
  }
 ],
 "metadata": {
  "kernelspec": {
   "display_name": "Python 3",
   "language": "python",
   "name": "python3"
  },
  "language_info": {
   "codemirror_mode": {
    "name": "ipython",
    "version": 3
   },
   "file_extension": ".py",
   "mimetype": "text/x-python",
   "name": "python",
   "nbconvert_exporter": "python",
   "pygments_lexer": "ipython3",
   "version": "3.13.4"
  }
 },
 "nbformat": 4,
 "nbformat_minor": 5
}
