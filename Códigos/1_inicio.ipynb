{
 "cells": [
  {
   "cell_type": "code",
   "execution_count": 1,
   "id": "b75cf1b1",
   "metadata": {},
   "outputs": [],
   "source": [
    "import pandas as pd"
   ]
  },
  {
   "cell_type": "markdown",
   "id": "320f93b1",
   "metadata": {},
   "source": [
    "### Montando a base inicial"
   ]
  },
  {
   "cell_type": "code",
   "execution_count": 2,
   "id": "d10905da",
   "metadata": {},
   "outputs": [],
   "source": [
    "colunas_base_outliers = ['V0001', 'V0024', 'UPA_PNS', 'V0006_PNS', 'C00301', \n",
    "                        'V0015', 'V0026', 'V0031', 'B001', 'C006', 'C008', 'C009', 'C011', 'C012','D00901', 'D014', 'D015', 'E01602', 'E017', 'E01802', 'E019', 'E027', \n",
    "                        'F001011', 'F001021', 'F007011', 'F007021', 'F008011', 'F008021', 'VDF001', 'VDF00102', 'F016', 'G059', 'G060', 'G062', 'G032', \n",
    "                        'I00102', 'I006', 'I004', 'I00401', 'I00402', 'I00403','I012', 'J060', 'M001', 'M00203', 'M00302', 'M011011', 'M011021', 'M011051', 'M011071', \n",
    "                        'N004', 'N005', 'N008', 'N010', 'N011', 'N012', 'N016', 'P00104', 'P00404', 'P00901', 'P01101', 'P02001', 'P018', 'P02002', 'P02501', 'P02602', 'P02601', 'P027', 'P02801', 'P029', 'P035', 'P03701', 'P03702',\n",
    "                        'P04501', 'P04502', 'P050', 'P051', 'P052', 'P053', 'P05401', 'P05404', 'P05407', 'P05410', 'P05413', 'P05416', 'P05419', 'P06701', 'P068', 'Q00201', 'Q03001', 'Q060', 'Q06306', \n",
    "                        'Q068', 'Q11006', 'Q128', 'R034']\n"
   ]
  },
  {
   "cell_type": "markdown",
   "id": "a64f9e8c",
   "metadata": {},
   "source": [
    "Alguns atributos eliminados depois: 'E006011', 'E008', 'E005', 'J002', 'J00402', 'J00404', 'J007', 'J00801', J001, J00101, J01101"
   ]
  },
  {
   "cell_type": "code",
   "execution_count": null,
   "id": "5cfcc85c",
   "metadata": {},
   "outputs": [
    {
     "data": {
      "application/vnd.microsoft.datawrangler.viewer.v0+json": {
       "columns": [
        {
         "name": "index",
         "rawType": "int64",
         "type": "integer"
        },
        {
         "name": "V0001",
         "rawType": "int64",
         "type": "integer"
        },
        {
         "name": "V0024",
         "rawType": "int64",
         "type": "integer"
        },
        {
         "name": "UPA_PNS",
         "rawType": "int64",
         "type": "integer"
        },
        {
         "name": "V0006_PNS",
         "rawType": "int64",
         "type": "integer"
        },
        {
         "name": "V0015",
         "rawType": "int64",
         "type": "integer"
        },
        {
         "name": "V0026",
         "rawType": "int64",
         "type": "integer"
        },
        {
         "name": "V0031",
         "rawType": "int64",
         "type": "integer"
        },
        {
         "name": "B001",
         "rawType": "float64",
         "type": "float"
        },
        {
         "name": "C00301",
         "rawType": "float64",
         "type": "float"
        },
        {
         "name": "C006",
         "rawType": "float64",
         "type": "float"
        },
        {
         "name": "C008",
         "rawType": "float64",
         "type": "float"
        },
        {
         "name": "C009",
         "rawType": "float64",
         "type": "float"
        },
        {
         "name": "C011",
         "rawType": "float64",
         "type": "float"
        },
        {
         "name": "C012",
         "rawType": "float64",
         "type": "float"
        },
        {
         "name": "D00901",
         "rawType": "float64",
         "type": "float"
        },
        {
         "name": "D014",
         "rawType": "float64",
         "type": "float"
        },
        {
         "name": "D015",
         "rawType": "float64",
         "type": "float"
        },
        {
         "name": "E01602",
         "rawType": "float64",
         "type": "float"
        },
        {
         "name": "E017",
         "rawType": "float64",
         "type": "float"
        },
        {
         "name": "E01802",
         "rawType": "float64",
         "type": "float"
        },
        {
         "name": "E019",
         "rawType": "float64",
         "type": "float"
        },
        {
         "name": "E027",
         "rawType": "float64",
         "type": "float"
        },
        {
         "name": "F001011",
         "rawType": "float64",
         "type": "float"
        },
        {
         "name": "F001021",
         "rawType": "float64",
         "type": "float"
        },
        {
         "name": "F007011",
         "rawType": "float64",
         "type": "float"
        },
        {
         "name": "F007021",
         "rawType": "float64",
         "type": "float"
        },
        {
         "name": "F008011",
         "rawType": "float64",
         "type": "float"
        },
        {
         "name": "F008021",
         "rawType": "float64",
         "type": "float"
        },
        {
         "name": "VDF001",
         "rawType": "float64",
         "type": "float"
        },
        {
         "name": "VDF00102",
         "rawType": "float64",
         "type": "float"
        },
        {
         "name": "F016",
         "rawType": "float64",
         "type": "float"
        },
        {
         "name": "G059",
         "rawType": "float64",
         "type": "float"
        },
        {
         "name": "G060",
         "rawType": "float64",
         "type": "float"
        },
        {
         "name": "G062",
         "rawType": "float64",
         "type": "float"
        },
        {
         "name": "G032",
         "rawType": "float64",
         "type": "float"
        },
        {
         "name": "I00102",
         "rawType": "float64",
         "type": "float"
        },
        {
         "name": "I006",
         "rawType": "float64",
         "type": "float"
        },
        {
         "name": "I004",
         "rawType": "float64",
         "type": "float"
        },
        {
         "name": "I00401",
         "rawType": "float64",
         "type": "float"
        },
        {
         "name": "I00402",
         "rawType": "float64",
         "type": "float"
        },
        {
         "name": "I00403",
         "rawType": "float64",
         "type": "float"
        },
        {
         "name": "I012",
         "rawType": "float64",
         "type": "float"
        },
        {
         "name": "J060",
         "rawType": "float64",
         "type": "float"
        },
        {
         "name": "M001",
         "rawType": "float64",
         "type": "float"
        },
        {
         "name": "M00203",
         "rawType": "float64",
         "type": "float"
        },
        {
         "name": "M00302",
         "rawType": "float64",
         "type": "float"
        },
        {
         "name": "M011011",
         "rawType": "float64",
         "type": "float"
        },
        {
         "name": "M011021",
         "rawType": "float64",
         "type": "float"
        },
        {
         "name": "M011051",
         "rawType": "float64",
         "type": "float"
        },
        {
         "name": "M011071",
         "rawType": "float64",
         "type": "float"
        },
        {
         "name": "N004",
         "rawType": "float64",
         "type": "float"
        },
        {
         "name": "N005",
         "rawType": "float64",
         "type": "float"
        },
        {
         "name": "N008",
         "rawType": "float64",
         "type": "float"
        },
        {
         "name": "N010",
         "rawType": "float64",
         "type": "float"
        },
        {
         "name": "N011",
         "rawType": "float64",
         "type": "float"
        },
        {
         "name": "N012",
         "rawType": "float64",
         "type": "float"
        },
        {
         "name": "N016",
         "rawType": "float64",
         "type": "float"
        },
        {
         "name": "P00104",
         "rawType": "float64",
         "type": "float"
        },
        {
         "name": "P00404",
         "rawType": "float64",
         "type": "float"
        },
        {
         "name": "P00901",
         "rawType": "float64",
         "type": "float"
        },
        {
         "name": "P01101",
         "rawType": "float64",
         "type": "float"
        },
        {
         "name": "P02001",
         "rawType": "float64",
         "type": "float"
        },
        {
         "name": "P018",
         "rawType": "float64",
         "type": "float"
        },
        {
         "name": "P02002",
         "rawType": "float64",
         "type": "float"
        },
        {
         "name": "P02501",
         "rawType": "float64",
         "type": "float"
        },
        {
         "name": "P02602",
         "rawType": "float64",
         "type": "float"
        },
        {
         "name": "P02601",
         "rawType": "float64",
         "type": "float"
        },
        {
         "name": "P027",
         "rawType": "float64",
         "type": "float"
        },
        {
         "name": "P02801",
         "rawType": "float64",
         "type": "float"
        },
        {
         "name": "P029",
         "rawType": "float64",
         "type": "float"
        },
        {
         "name": "P035",
         "rawType": "float64",
         "type": "float"
        },
        {
         "name": "P03701",
         "rawType": "float64",
         "type": "float"
        },
        {
         "name": "P03702",
         "rawType": "float64",
         "type": "float"
        },
        {
         "name": "P04501",
         "rawType": "float64",
         "type": "float"
        },
        {
         "name": "P04502",
         "rawType": "float64",
         "type": "float"
        },
        {
         "name": "P050",
         "rawType": "float64",
         "type": "float"
        },
        {
         "name": "P051",
         "rawType": "float64",
         "type": "float"
        },
        {
         "name": "P052",
         "rawType": "float64",
         "type": "float"
        },
        {
         "name": "P053",
         "rawType": "float64",
         "type": "float"
        },
        {
         "name": "P05401",
         "rawType": "float64",
         "type": "float"
        },
        {
         "name": "P05404",
         "rawType": "float64",
         "type": "float"
        },
        {
         "name": "P05407",
         "rawType": "float64",
         "type": "float"
        },
        {
         "name": "P05410",
         "rawType": "float64",
         "type": "float"
        },
        {
         "name": "P05413",
         "rawType": "float64",
         "type": "float"
        },
        {
         "name": "P05416",
         "rawType": "float64",
         "type": "float"
        },
        {
         "name": "P05419",
         "rawType": "float64",
         "type": "float"
        },
        {
         "name": "P06701",
         "rawType": "float64",
         "type": "float"
        },
        {
         "name": "P068",
         "rawType": "float64",
         "type": "float"
        },
        {
         "name": "Q00201",
         "rawType": "float64",
         "type": "float"
        },
        {
         "name": "Q03001",
         "rawType": "float64",
         "type": "float"
        },
        {
         "name": "Q060",
         "rawType": "float64",
         "type": "float"
        },
        {
         "name": "Q06306",
         "rawType": "float64",
         "type": "float"
        },
        {
         "name": "Q068",
         "rawType": "float64",
         "type": "float"
        },
        {
         "name": "Q11006",
         "rawType": "float64",
         "type": "float"
        },
        {
         "name": "Q128",
         "rawType": "float64",
         "type": "float"
        },
        {
         "name": "R034",
         "rawType": "float64",
         "type": "float"
        }
       ],
       "ref": "1c402b73-fcb7-4d31-8667-633d7ac372e8",
       "rows": [
        [
         "0",
         "11",
         "1110011",
         "110000016",
         "1",
         "1",
         "1",
         "1",
         "1.0",
         "1.0",
         "2.0",
         "55.0",
         "1.0",
         "1.0",
         "1.0",
         "5.0",
         "1.0",
         "1.0",
         "100.0",
         "40.0",
         null,
         null,
         "1.0",
         "2.0",
         null,
         "2.0",
         null,
         "2.0",
         null,
         "2.0",
         null,
         "1.0",
         "2.0",
         null,
         null,
         "1.0",
         "2.0",
         null,
         null,
         null,
         null,
         null,
         "1.0",
         "1.0",
         "1.0",
         "1.0",
         null,
         "2.0",
         "2.0",
         "2.0",
         "2.0",
         "2.0",
         "2.0",
         null,
         "4.0",
         "2.0",
         "2.0",
         "2.0",
         "60.0",
         "145.0",
         "1.0",
         "3.0",
         "7.0",
         "3.0",
         "1.0",
         "0.0",
         "0.0",
         "3.0",
         "2.0",
         null,
         "5.0",
         "1.0",
         "0.0",
         "30.0",
         "3.0",
         "1.0",
         "3.0",
         null,
         "1.0",
         "15.0",
         null,
         null,
         null,
         null,
         null,
         null,
         null,
         "4.0",
         "1.0",
         "1.0",
         "2.0",
         "1.0",
         "2.0",
         "2.0",
         "2.0",
         "2.0",
         null
        ],
        [
         "1",
         "11",
         "1110011",
         "110000016",
         "1",
         "1",
         "1",
         "1",
         "1.0",
         "2.0",
         "1.0",
         "69.0",
         "4.0",
         "1.0",
         "2.0",
         null,
         null,
         "2.0",
         null,
         null,
         null,
         null,
         "2.0",
         "1.0",
         "998.0",
         "2.0",
         null,
         "2.0",
         null,
         "2.0",
         null,
         "2.0",
         "2.0",
         null,
         null,
         "2.0",
         "2.0",
         null,
         null,
         null,
         null,
         null,
         "2.0",
         "2.0",
         null,
         null,
         null,
         null,
         null,
         null,
         null,
         null,
         null,
         null,
         null,
         null,
         null,
         null,
         null,
         null,
         null,
         null,
         null,
         null,
         null,
         null,
         null,
         null,
         null,
         null,
         null,
         null,
         null,
         null,
         null,
         null,
         null,
         null,
         null,
         null,
         null,
         null,
         null,
         null,
         null,
         null,
         null,
         null,
         null,
         null,
         null,
         null,
         null,
         null,
         null,
         null,
         null
        ],
        [
         "2",
         "11",
         "1110011",
         "110000016",
         "1",
         "1",
         "1",
         "1",
         "1.0",
         "3.0",
         "1.0",
         "31.0",
         "2.0",
         "4.0",
         "2.0",
         "10.0",
         "1.0",
         "2.0",
         "1000.0",
         "36.0",
         null,
         null,
         "2.0",
         "2.0",
         null,
         "2.0",
         null,
         "2.0",
         null,
         "2.0",
         null,
         "2.0",
         "2.0",
         null,
         null,
         "2.0",
         "2.0",
         null,
         null,
         null,
         null,
         null,
         "2.0",
         "2.0",
         null,
         null,
         null,
         null,
         null,
         null,
         null,
         null,
         null,
         null,
         null,
         null,
         null,
         null,
         null,
         null,
         null,
         null,
         null,
         null,
         null,
         null,
         null,
         null,
         null,
         null,
         null,
         null,
         null,
         null,
         null,
         null,
         null,
         null,
         null,
         null,
         null,
         null,
         null,
         null,
         null,
         null,
         null,
         null,
         null,
         null,
         null,
         null,
         null,
         null,
         null,
         null,
         null
        ],
        [
         "3",
         "11",
         "1110011",
         "110000016",
         "1",
         "1",
         "1",
         "1",
         "1.0",
         "4.0",
         "1.0",
         "9.0",
         "2.0",
         null,
         "2.0",
         null,
         null,
         "2.0",
         null,
         null,
         null,
         null,
         null,
         "2.0",
         null,
         "2.0",
         null,
         "2.0",
         null,
         "2.0",
         null,
         "2.0",
         "2.0",
         null,
         null,
         "2.0",
         "2.0",
         null,
         null,
         null,
         null,
         null,
         "2.0",
         "2.0",
         null,
         null,
         null,
         null,
         null,
         null,
         null,
         null,
         null,
         null,
         null,
         null,
         null,
         null,
         null,
         null,
         null,
         null,
         null,
         null,
         null,
         null,
         null,
         null,
         null,
         null,
         null,
         null,
         null,
         null,
         null,
         null,
         null,
         null,
         null,
         null,
         null,
         null,
         null,
         null,
         null,
         null,
         null,
         null,
         null,
         null,
         null,
         null,
         null,
         null,
         null,
         null,
         null
        ],
        [
         "4",
         "11",
         "1110011",
         "110000016",
         "1",
         "1",
         "1",
         "1",
         "1.0",
         "5.0",
         "2.0",
         "6.0",
         "4.0",
         null,
         "2.0",
         null,
         null,
         "2.0",
         null,
         null,
         null,
         null,
         null,
         "2.0",
         null,
         "2.0",
         null,
         "2.0",
         null,
         "2.0",
         null,
         "2.0",
         "2.0",
         null,
         null,
         "2.0",
         "2.0",
         null,
         null,
         null,
         null,
         null,
         "2.0",
         "2.0",
         null,
         null,
         null,
         null,
         null,
         null,
         null,
         null,
         null,
         null,
         null,
         null,
         null,
         null,
         null,
         null,
         null,
         null,
         null,
         null,
         null,
         null,
         null,
         null,
         null,
         null,
         null,
         null,
         null,
         null,
         null,
         null,
         null,
         null,
         null,
         null,
         null,
         null,
         null,
         null,
         null,
         null,
         null,
         null,
         null,
         null,
         null,
         null,
         null,
         null,
         null,
         null,
         null
        ]
       ],
       "shape": {
        "columns": 96,
        "rows": 5
       }
      },
      "text/html": [
       "<div>\n",
       "<style scoped>\n",
       "    .dataframe tbody tr th:only-of-type {\n",
       "        vertical-align: middle;\n",
       "    }\n",
       "\n",
       "    .dataframe tbody tr th {\n",
       "        vertical-align: top;\n",
       "    }\n",
       "\n",
       "    .dataframe thead th {\n",
       "        text-align: right;\n",
       "    }\n",
       "</style>\n",
       "<table border=\"1\" class=\"dataframe\">\n",
       "  <thead>\n",
       "    <tr style=\"text-align: right;\">\n",
       "      <th></th>\n",
       "      <th>V0001</th>\n",
       "      <th>V0024</th>\n",
       "      <th>UPA_PNS</th>\n",
       "      <th>V0006_PNS</th>\n",
       "      <th>V0015</th>\n",
       "      <th>V0026</th>\n",
       "      <th>V0031</th>\n",
       "      <th>B001</th>\n",
       "      <th>C00301</th>\n",
       "      <th>C006</th>\n",
       "      <th>...</th>\n",
       "      <th>P06701</th>\n",
       "      <th>P068</th>\n",
       "      <th>Q00201</th>\n",
       "      <th>Q03001</th>\n",
       "      <th>Q060</th>\n",
       "      <th>Q06306</th>\n",
       "      <th>Q068</th>\n",
       "      <th>Q11006</th>\n",
       "      <th>Q128</th>\n",
       "      <th>R034</th>\n",
       "    </tr>\n",
       "  </thead>\n",
       "  <tbody>\n",
       "    <tr>\n",
       "      <th>0</th>\n",
       "      <td>11</td>\n",
       "      <td>1110011</td>\n",
       "      <td>110000016</td>\n",
       "      <td>1</td>\n",
       "      <td>1</td>\n",
       "      <td>1</td>\n",
       "      <td>1</td>\n",
       "      <td>1.0</td>\n",
       "      <td>1.0</td>\n",
       "      <td>2.0</td>\n",
       "      <td>...</td>\n",
       "      <td>4.0</td>\n",
       "      <td>1.0</td>\n",
       "      <td>1.0</td>\n",
       "      <td>2.0</td>\n",
       "      <td>1.0</td>\n",
       "      <td>2.0</td>\n",
       "      <td>2.0</td>\n",
       "      <td>2.0</td>\n",
       "      <td>2.0</td>\n",
       "      <td>NaN</td>\n",
       "    </tr>\n",
       "    <tr>\n",
       "      <th>1</th>\n",
       "      <td>11</td>\n",
       "      <td>1110011</td>\n",
       "      <td>110000016</td>\n",
       "      <td>1</td>\n",
       "      <td>1</td>\n",
       "      <td>1</td>\n",
       "      <td>1</td>\n",
       "      <td>1.0</td>\n",
       "      <td>2.0</td>\n",
       "      <td>1.0</td>\n",
       "      <td>...</td>\n",
       "      <td>NaN</td>\n",
       "      <td>NaN</td>\n",
       "      <td>NaN</td>\n",
       "      <td>NaN</td>\n",
       "      <td>NaN</td>\n",
       "      <td>NaN</td>\n",
       "      <td>NaN</td>\n",
       "      <td>NaN</td>\n",
       "      <td>NaN</td>\n",
       "      <td>NaN</td>\n",
       "    </tr>\n",
       "    <tr>\n",
       "      <th>2</th>\n",
       "      <td>11</td>\n",
       "      <td>1110011</td>\n",
       "      <td>110000016</td>\n",
       "      <td>1</td>\n",
       "      <td>1</td>\n",
       "      <td>1</td>\n",
       "      <td>1</td>\n",
       "      <td>1.0</td>\n",
       "      <td>3.0</td>\n",
       "      <td>1.0</td>\n",
       "      <td>...</td>\n",
       "      <td>NaN</td>\n",
       "      <td>NaN</td>\n",
       "      <td>NaN</td>\n",
       "      <td>NaN</td>\n",
       "      <td>NaN</td>\n",
       "      <td>NaN</td>\n",
       "      <td>NaN</td>\n",
       "      <td>NaN</td>\n",
       "      <td>NaN</td>\n",
       "      <td>NaN</td>\n",
       "    </tr>\n",
       "    <tr>\n",
       "      <th>3</th>\n",
       "      <td>11</td>\n",
       "      <td>1110011</td>\n",
       "      <td>110000016</td>\n",
       "      <td>1</td>\n",
       "      <td>1</td>\n",
       "      <td>1</td>\n",
       "      <td>1</td>\n",
       "      <td>1.0</td>\n",
       "      <td>4.0</td>\n",
       "      <td>1.0</td>\n",
       "      <td>...</td>\n",
       "      <td>NaN</td>\n",
       "      <td>NaN</td>\n",
       "      <td>NaN</td>\n",
       "      <td>NaN</td>\n",
       "      <td>NaN</td>\n",
       "      <td>NaN</td>\n",
       "      <td>NaN</td>\n",
       "      <td>NaN</td>\n",
       "      <td>NaN</td>\n",
       "      <td>NaN</td>\n",
       "    </tr>\n",
       "    <tr>\n",
       "      <th>4</th>\n",
       "      <td>11</td>\n",
       "      <td>1110011</td>\n",
       "      <td>110000016</td>\n",
       "      <td>1</td>\n",
       "      <td>1</td>\n",
       "      <td>1</td>\n",
       "      <td>1</td>\n",
       "      <td>1.0</td>\n",
       "      <td>5.0</td>\n",
       "      <td>2.0</td>\n",
       "      <td>...</td>\n",
       "      <td>NaN</td>\n",
       "      <td>NaN</td>\n",
       "      <td>NaN</td>\n",
       "      <td>NaN</td>\n",
       "      <td>NaN</td>\n",
       "      <td>NaN</td>\n",
       "      <td>NaN</td>\n",
       "      <td>NaN</td>\n",
       "      <td>NaN</td>\n",
       "      <td>NaN</td>\n",
       "    </tr>\n",
       "  </tbody>\n",
       "</table>\n",
       "<p>5 rows × 96 columns</p>\n",
       "</div>"
      ],
      "text/plain": [
       "   V0001    V0024    UPA_PNS  V0006_PNS  V0015  V0026  V0031  B001  C00301  \\\n",
       "0     11  1110011  110000016          1      1      1      1   1.0     1.0   \n",
       "1     11  1110011  110000016          1      1      1      1   1.0     2.0   \n",
       "2     11  1110011  110000016          1      1      1      1   1.0     3.0   \n",
       "3     11  1110011  110000016          1      1      1      1   1.0     4.0   \n",
       "4     11  1110011  110000016          1      1      1      1   1.0     5.0   \n",
       "\n",
       "   C006  ...  P06701  P068  Q00201  Q03001  Q060  Q06306  Q068  Q11006  Q128  \\\n",
       "0   2.0  ...     4.0   1.0     1.0     2.0   1.0     2.0   2.0     2.0   2.0   \n",
       "1   1.0  ...     NaN   NaN     NaN     NaN   NaN     NaN   NaN     NaN   NaN   \n",
       "2   1.0  ...     NaN   NaN     NaN     NaN   NaN     NaN   NaN     NaN   NaN   \n",
       "3   1.0  ...     NaN   NaN     NaN     NaN   NaN     NaN   NaN     NaN   NaN   \n",
       "4   2.0  ...     NaN   NaN     NaN     NaN   NaN     NaN   NaN     NaN   NaN   \n",
       "\n",
       "   R034  \n",
       "0   NaN  \n",
       "1   NaN  \n",
       "2   NaN  \n",
       "3   NaN  \n",
       "4   NaN  \n",
       "\n",
       "[5 rows x 96 columns]"
      ]
     },
     "execution_count": 3,
     "metadata": {},
     "output_type": "execute_result"
    }
   ],
   "source": [
    "df = pd.read_csv('../Bases/Originais/pns2019.csv', usecols=colunas_base_outliers)\n",
    "df.head()"
   ]
  },
  {
   "cell_type": "code",
   "execution_count": 4,
   "id": "c60cb62d",
   "metadata": {},
   "outputs": [],
   "source": [
    "# Códigos dos estados do Nordeste\n",
    "nordeste = [21, 22, 23, 24, 25, 26, 27, 28, 29]\n",
    "\n",
    "# Códigos dos estados do Centro-Oeste\n",
    "centro_oeste = [50, 51, 52, 53]\n",
    "\n",
    "df_filtrado = df.dropna(subset=['Q06306'])\n",
    "\n",
    "df_filtrado = df_filtrado[\n",
    "    (df_filtrado['V0015'] == 1) & #Tipo da entrevista: Realizada (1)\n",
    "    (df_filtrado['V0001'].isin(nordeste + centro_oeste)) & #Região nordeste e centro-oeste apenas\n",
    "    (~df_filtrado['C012'].isin([3, 9])) & #Informante do Módulo C \n",
    "    (~df_filtrado['D015'].isin([3, 9])) & #Informante do Módulo D \n",
    "    (~df_filtrado['E027'].isin([3, 9])) & #Informante do Módulo E \n",
    "    (~df_filtrado['F016'].isin([3, 9])) & #Informante do Módulo F \n",
    "    (~df_filtrado['G032'].isin([3, 9])) & #Informante do Módulo G \n",
    "    (~df_filtrado['I012'].isin([3, 9])) & #Informante do Módulo I \n",
    "    (~df_filtrado['J060'].isin([3, 9])) & #Informante do Módulo J \n",
    "    (df_filtrado['M001'] == 1) & #Entrevista do adulto selecionado: Realizada (1)\n",
    "    (~df_filtrado['M00302'].isin([2])) & #O informante desta parte é: (todas as opções menos \"Não morador\")\n",
    "    (df_filtrado['C008'] >= 40) & (df_filtrado['C008'] <= 70) #Pessoas com entre 40 e 70 anos\n",
    "]\n",
    "\n",
    "#Colunas acrescentadas para análise e produto cartesiano: \n",
    "# 'D00201', 'D00301', 'D008'\n",
    "# 'E011', 'E014011', 'E01601', 'E01603', 'E01605', 'E01801'\n",
    "## tirei 'E010010', 'E01604', 'E01804'\n",
    "# 'I00103', 'I001031','C00301'\n",
    "# 'N00101'\n",
    "## peso: 'W00101', 'W00102', 'W00103' (já tirei)\n",
    "## altura: 'W00201', 'W00202', 'W00203' (já tirei)\n",
    "# 'P00103', 'P00403'\n",
    "## tirei o P01001 e o P019\n",
    "# 'P034'\n",
    "## tirei o P058\n",
    "# 'P05901', 'P05902', 'P05903', 'P05904'\n",
    "# 'Q00101', 'Q02901', 'Q05901'\n",
    "# 'R031', 'R032', 'R033'\n",
    "# 'R010', 'R025', 'R028', 'R029', 'R030'\n",
    "# 'H001', 'H002'\n",
    "# Atributos sobre contraceptivo: 'R010', 'R025', 'R028', 'R029', 'R030', 'R031', 'R032', 'R033', 'R034', 'R03601', 'R03607', 'R03608', 'R03610', 'S065', \n",
    "\n",
    "\n",
    "colunas_existentes = [col for col in colunas_base_outliers if col in df_filtrado.columns]\n",
    "\n",
    "df_filtrado = df_filtrado[colunas_existentes]"
   ]
  },
  {
   "cell_type": "code",
   "execution_count": 5,
   "id": "ea8120b5",
   "metadata": {},
   "outputs": [],
   "source": [
    "df_filtrado = df_filtrado.drop(columns=['V0015', 'C012', 'D015', 'E027', 'F016', 'G032', 'I012', 'J060', 'M001', 'M00302']) #drop dos filtros"
   ]
  },
  {
   "cell_type": "code",
   "execution_count": null,
   "id": "faf47262",
   "metadata": {},
   "outputs": [],
   "source": [
    "df_filtrado.to_csv('../Bases/Criados/1_base_bruta.csv', index=False)"
   ]
  },
  {
   "cell_type": "code",
   "execution_count": 7,
   "id": "d3d38aee",
   "metadata": {},
   "outputs": [
    {
     "data": {
      "text/plain": [
       "Index(['D00901', 'D014', 'E01602', 'E017', 'E01802', 'E019', 'F001021',\n",
       "       'F007021', 'F008021', 'VDF00102', 'G060', 'G062', 'I006', 'I004',\n",
       "       'I00401', 'I00402', 'I00403', 'M00203', 'M011011', 'M011021', 'M011051',\n",
       "       'M011071', 'N004', 'N005', 'N008', 'P00104', 'P00404', 'P02801', 'P029',\n",
       "       'P035', 'P03701', 'P03702', 'P051', 'P052', 'P053', 'P05401', 'P05404',\n",
       "       'P05407', 'P05410', 'P05413', 'P05416', 'P05419', 'Q00201', 'Q03001',\n",
       "       'Q060', 'R034'],\n",
       "      dtype='object')"
      ]
     },
     "execution_count": 7,
     "metadata": {},
     "output_type": "execute_result"
    }
   ],
   "source": [
    "df_filtrado.columns[df_filtrado.isnull().any()]"
   ]
  },
  {
   "cell_type": "code",
   "execution_count": 8,
   "id": "d977b665",
   "metadata": {},
   "outputs": [
    {
     "data": {
      "text/plain": [
       "46"
      ]
     },
     "execution_count": 8,
     "metadata": {},
     "output_type": "execute_result"
    }
   ],
   "source": [
    "(df_filtrado.isnull().sum() > 0).sum()"
   ]
  },
  {
   "cell_type": "markdown",
   "id": "390bd2e6",
   "metadata": {},
   "source": [
    "### Informações gerais das bases"
   ]
  },
  {
   "cell_type": "code",
   "execution_count": null,
   "id": "5aad5812",
   "metadata": {},
   "outputs": [],
   "source": [
    "df1 = pd.read_csv('../Bases/Criados/1_base_bruta.csv')"
   ]
  },
  {
   "cell_type": "code",
   "execution_count": 10,
   "id": "2848256d",
   "metadata": {},
   "outputs": [
    {
     "data": {
      "text/plain": [
       "(20528, 86)"
      ]
     },
     "execution_count": 10,
     "metadata": {},
     "output_type": "execute_result"
    }
   ],
   "source": [
    "df1.shape"
   ]
  },
  {
   "cell_type": "code",
   "execution_count": 11,
   "id": "e0d4b326",
   "metadata": {},
   "outputs": [
    {
     "name": "stdout",
     "output_type": "stream",
     "text": [
      "<class 'pandas.core.frame.DataFrame'>\n",
      "RangeIndex: 20528 entries, 0 to 20527\n",
      "Data columns (total 86 columns):\n",
      " #   Column     Non-Null Count  Dtype  \n",
      "---  ------     --------------  -----  \n",
      " 0   V0001      20528 non-null  int64  \n",
      " 1   V0024      20528 non-null  int64  \n",
      " 2   UPA_PNS    20528 non-null  int64  \n",
      " 3   V0006_PNS  20528 non-null  int64  \n",
      " 4   C00301     20528 non-null  float64\n",
      " 5   V0026      20528 non-null  int64  \n",
      " 6   V0031      20528 non-null  int64  \n",
      " 7   B001       20528 non-null  float64\n",
      " 8   C006       20528 non-null  float64\n",
      " 9   C008       20528 non-null  float64\n",
      " 10  C009       20528 non-null  float64\n",
      " 11  C011       20528 non-null  float64\n",
      " 12  D00901     18139 non-null  float64\n",
      " 13  D014       17349 non-null  float64\n",
      " 14  E01602     11725 non-null  float64\n",
      " 15  E017       11935 non-null  float64\n",
      " 16  E01802     707 non-null    float64\n",
      " 17  E019       724 non-null    float64\n",
      " 18  F001011    20528 non-null  float64\n",
      " 19  F001021    5768 non-null   float64\n",
      " 20  F007011    20528 non-null  float64\n",
      " 21  F007021    651 non-null    float64\n",
      " 22  F008011    20528 non-null  float64\n",
      " 23  F008021    954 non-null    float64\n",
      " 24  VDF001     20528 non-null  float64\n",
      " 25  VDF00102   3109 non-null   float64\n",
      " 26  G059       20528 non-null  float64\n",
      " 27  G060       348 non-null    float64\n",
      " 28  G062       348 non-null    float64\n",
      " 29  I00102     20528 non-null  float64\n",
      " 30  I006       3842 non-null   float64\n",
      " 31  I004       2873 non-null   float64\n",
      " 32  I00401     2873 non-null   float64\n",
      " 33  I00402     2873 non-null   float64\n",
      " 34  I00403     2873 non-null   float64\n",
      " 35  M00203     20526 non-null  float64\n",
      " 36  M011011    11935 non-null  float64\n",
      " 37  M011021    11935 non-null  float64\n",
      " 38  M011051    11935 non-null  float64\n",
      " 39  M011071    11935 non-null  float64\n",
      " 40  N004       20180 non-null  float64\n",
      " 41  N005       20180 non-null  float64\n",
      " 42  N008       2885 non-null   float64\n",
      " 43  N010       20528 non-null  float64\n",
      " 44  N011       20528 non-null  float64\n",
      " 45  N012       20528 non-null  float64\n",
      " 46  N016       20528 non-null  float64\n",
      " 47  P00104     20501 non-null  float64\n",
      " 48  P00404     20501 non-null  float64\n",
      " 49  P00901     20528 non-null  float64\n",
      " 50  P01101     20528 non-null  float64\n",
      " 51  P02001     20528 non-null  float64\n",
      " 52  P018       20528 non-null  float64\n",
      " 53  P02002     20528 non-null  float64\n",
      " 54  P02501     20528 non-null  float64\n",
      " 55  P02602     20528 non-null  float64\n",
      " 56  P02601     20528 non-null  float64\n",
      " 57  P027       20528 non-null  float64\n",
      " 58  P02801     4898 non-null   float64\n",
      " 59  P029       7309 non-null   float64\n",
      " 60  P035       7392 non-null   float64\n",
      " 61  P03701     7202 non-null   float64\n",
      " 62  P03702     7202 non-null   float64\n",
      " 63  P04501     20528 non-null  float64\n",
      " 64  P04502     20528 non-null  float64\n",
      " 65  P050       20528 non-null  float64\n",
      " 66  P051       225 non-null    float64\n",
      " 67  P052       17666 non-null  float64\n",
      " 68  P053       8427 non-null   float64\n",
      " 69  P05401     2862 non-null   float64\n",
      " 70  P05404     2862 non-null   float64\n",
      " 71  P05407     2862 non-null   float64\n",
      " 72  P05410     2862 non-null   float64\n",
      " 73  P05413     2862 non-null   float64\n",
      " 74  P05416     2862 non-null   float64\n",
      " 75  P05419     2862 non-null   float64\n",
      " 76  P06701     20528 non-null  float64\n",
      " 77  P068       20528 non-null  float64\n",
      " 78  Q00201     20333 non-null  float64\n",
      " 79  Q03001     19356 non-null  float64\n",
      " 80  Q060       19107 non-null  float64\n",
      " 81  Q06306     20528 non-null  float64\n",
      " 82  Q068       20528 non-null  float64\n",
      " 83  Q11006     20528 non-null  float64\n",
      " 84  Q128       20528 non-null  float64\n",
      " 85  R034       2870 non-null   float64\n",
      "dtypes: float64(80), int64(6)\n",
      "memory usage: 13.5 MB\n"
     ]
    }
   ],
   "source": [
    "df1.info()"
   ]
  },
  {
   "cell_type": "code",
   "execution_count": null,
   "id": "7f4c1017",
   "metadata": {},
   "outputs": [],
   "source": [
    "df2 = pd.read_csv('../Bases/Criados/2_base_sem_outliers.csv')"
   ]
  },
  {
   "cell_type": "code",
   "execution_count": 13,
   "id": "d6f936d9",
   "metadata": {},
   "outputs": [
    {
     "data": {
      "text/plain": [
       "(20528, 86)"
      ]
     },
     "execution_count": 13,
     "metadata": {},
     "output_type": "execute_result"
    }
   ],
   "source": [
    "df2.shape"
   ]
  },
  {
   "cell_type": "code",
   "execution_count": 14,
   "id": "be06c7f8",
   "metadata": {},
   "outputs": [
    {
     "name": "stdout",
     "output_type": "stream",
     "text": [
      "<class 'pandas.core.frame.DataFrame'>\n",
      "RangeIndex: 20528 entries, 0 to 20527\n",
      "Data columns (total 86 columns):\n",
      " #   Column     Non-Null Count  Dtype  \n",
      "---  ------     --------------  -----  \n",
      " 0   V0001      20528 non-null  int64  \n",
      " 1   V0024      20528 non-null  int64  \n",
      " 2   UPA_PNS    20528 non-null  int64  \n",
      " 3   V0006_PNS  20528 non-null  int64  \n",
      " 4   C00301     20528 non-null  float64\n",
      " 5   V0026      20528 non-null  int64  \n",
      " 6   V0031      20528 non-null  int64  \n",
      " 7   B001       20528 non-null  float64\n",
      " 8   C006       20528 non-null  float64\n",
      " 9   C008       20528 non-null  float64\n",
      " 10  C009       20528 non-null  float64\n",
      " 11  C011       20528 non-null  float64\n",
      " 12  D00901     18139 non-null  float64\n",
      " 13  D014       17349 non-null  float64\n",
      " 14  E01602     11725 non-null  float64\n",
      " 15  E017       11935 non-null  float64\n",
      " 16  E01802     707 non-null    float64\n",
      " 17  E019       724 non-null    float64\n",
      " 18  F001011    20528 non-null  float64\n",
      " 19  F001021    5768 non-null   float64\n",
      " 20  F007011    20528 non-null  float64\n",
      " 21  F007021    651 non-null    float64\n",
      " 22  F008011    20528 non-null  float64\n",
      " 23  F008021    954 non-null    float64\n",
      " 24  VDF001     20528 non-null  float64\n",
      " 25  VDF00102   3109 non-null   float64\n",
      " 26  G059       20528 non-null  float64\n",
      " 27  G060       348 non-null    float64\n",
      " 28  G062       348 non-null    float64\n",
      " 29  I00102     20528 non-null  float64\n",
      " 30  I006       3842 non-null   float64\n",
      " 31  I004       2873 non-null   float64\n",
      " 32  I00401     2873 non-null   float64\n",
      " 33  I00402     2873 non-null   float64\n",
      " 34  I00403     2873 non-null   float64\n",
      " 35  M00203     20526 non-null  float64\n",
      " 36  M011011    11935 non-null  float64\n",
      " 37  M011021    11935 non-null  float64\n",
      " 38  M011051    11935 non-null  float64\n",
      " 39  M011071    11935 non-null  float64\n",
      " 40  N004       20180 non-null  float64\n",
      " 41  N005       20180 non-null  float64\n",
      " 42  N008       2885 non-null   float64\n",
      " 43  N010       20528 non-null  float64\n",
      " 44  N011       20528 non-null  float64\n",
      " 45  N012       20528 non-null  float64\n",
      " 46  N016       20528 non-null  float64\n",
      " 47  P00104     20501 non-null  float64\n",
      " 48  P00404     20501 non-null  float64\n",
      " 49  P00901     20528 non-null  float64\n",
      " 50  P01101     20528 non-null  float64\n",
      " 51  P02001     20528 non-null  float64\n",
      " 52  P018       20528 non-null  float64\n",
      " 53  P02002     20528 non-null  float64\n",
      " 54  P02501     20528 non-null  float64\n",
      " 55  P02602     20528 non-null  float64\n",
      " 56  P02601     20528 non-null  float64\n",
      " 57  P027       20528 non-null  float64\n",
      " 58  P02801     4898 non-null   float64\n",
      " 59  P029       7309 non-null   float64\n",
      " 60  P035       7392 non-null   float64\n",
      " 61  P03701     7202 non-null   float64\n",
      " 62  P03702     7202 non-null   float64\n",
      " 63  P04501     20528 non-null  float64\n",
      " 64  P04502     20528 non-null  float64\n",
      " 65  P050       20528 non-null  float64\n",
      " 66  P051       225 non-null    float64\n",
      " 67  P052       17666 non-null  float64\n",
      " 68  P053       8427 non-null   float64\n",
      " 69  P05401     2862 non-null   float64\n",
      " 70  P05404     2862 non-null   float64\n",
      " 71  P05407     2862 non-null   float64\n",
      " 72  P05410     2862 non-null   float64\n",
      " 73  P05413     2862 non-null   float64\n",
      " 74  P05416     2862 non-null   float64\n",
      " 75  P05419     2862 non-null   float64\n",
      " 76  P06701     20528 non-null  float64\n",
      " 77  P068       20528 non-null  float64\n",
      " 78  Q00201     20333 non-null  float64\n",
      " 79  Q03001     19356 non-null  float64\n",
      " 80  Q060       19107 non-null  float64\n",
      " 81  Q06306     20528 non-null  float64\n",
      " 82  Q068       20528 non-null  float64\n",
      " 83  Q11006     20528 non-null  float64\n",
      " 84  Q128       20528 non-null  float64\n",
      " 85  R034       2870 non-null   float64\n",
      "dtypes: float64(80), int64(6)\n",
      "memory usage: 13.5 MB\n"
     ]
    }
   ],
   "source": [
    "df2.info()"
   ]
  },
  {
   "cell_type": "code",
   "execution_count": null,
   "id": "be7d975b",
   "metadata": {},
   "outputs": [],
   "source": [
    "df3 = pd.read_csv('../Bases/Criados/3_base_doencas_cardiacas.csv')"
   ]
  },
  {
   "cell_type": "code",
   "execution_count": 16,
   "id": "22a70efc",
   "metadata": {},
   "outputs": [
    {
     "data": {
      "text/plain": [
       "(20528, 107)"
      ]
     },
     "execution_count": 16,
     "metadata": {},
     "output_type": "execute_result"
    }
   ],
   "source": [
    "df3.shape"
   ]
  },
  {
   "cell_type": "code",
   "execution_count": 17,
   "id": "e547a76b",
   "metadata": {},
   "outputs": [
    {
     "name": "stdout",
     "output_type": "stream",
     "text": [
      "<class 'pandas.core.frame.DataFrame'>\n",
      "RangeIndex: 20528 entries, 0 to 20527\n",
      "Columns: 107 entries, V0001 to Q092\n",
      "dtypes: float64(104), int64(3)\n",
      "memory usage: 16.8 MB\n"
     ]
    }
   ],
   "source": [
    "df3.info()"
   ]
  },
  {
   "cell_type": "code",
   "execution_count": null,
   "id": "9d5e8dd3",
   "metadata": {},
   "outputs": [],
   "source": [
    "df4 = pd.read_csv('../Bases/Criados/4_base_preenchida.csv')"
   ]
  },
  {
   "cell_type": "code",
   "execution_count": 19,
   "id": "3d6b2988",
   "metadata": {},
   "outputs": [
    {
     "data": {
      "text/plain": [
       "(20499, 49)"
      ]
     },
     "execution_count": 19,
     "metadata": {},
     "output_type": "execute_result"
    }
   ],
   "source": [
    "df4.shape"
   ]
  },
  {
   "cell_type": "code",
   "execution_count": 20,
   "id": "0afa302b",
   "metadata": {},
   "outputs": [
    {
     "name": "stdout",
     "output_type": "stream",
     "text": [
      "<class 'pandas.core.frame.DataFrame'>\n",
      "RangeIndex: 20499 entries, 0 to 20498\n",
      "Data columns (total 49 columns):\n",
      " #   Column                    Non-Null Count  Dtype  \n",
      "---  ------                    --------------  -----  \n",
      " 0   V0001                     20499 non-null  int64  \n",
      " 1   V0026                     20499 non-null  int64  \n",
      " 2   V0031                     20499 non-null  int64  \n",
      " 3   B001                      20499 non-null  float64\n",
      " 4   C006                      20499 non-null  float64\n",
      " 5   C008                      20499 non-null  float64\n",
      " 6   C009                      20499 non-null  float64\n",
      " 7   C011                      20499 non-null  float64\n",
      " 8   I00102                    20499 non-null  float64\n",
      " 9   N010                      20499 non-null  float64\n",
      " 10  N011                      20499 non-null  float64\n",
      " 11  N012                      20499 non-null  float64\n",
      " 12  N016                      20499 non-null  float64\n",
      " 13  P00901                    20499 non-null  float64\n",
      " 14  P01101                    20499 non-null  float64\n",
      " 15  P02001                    20499 non-null  float64\n",
      " 16  P018                      20499 non-null  float64\n",
      " 17  P02002                    20499 non-null  float64\n",
      " 18  P02501                    20499 non-null  float64\n",
      " 19  P02602                    20499 non-null  float64\n",
      " 20  P02601                    20499 non-null  float64\n",
      " 21  P04501                    20499 non-null  float64\n",
      " 22  P04502                    20499 non-null  float64\n",
      " 23  P06701                    20499 non-null  float64\n",
      " 24  P068                      20499 non-null  float64\n",
      " 25  Q00201                    20499 non-null  float64\n",
      " 26  Q03001                    20499 non-null  float64\n",
      " 27  Q060                      20499 non-null  float64\n",
      " 28  Q06306                    20499 non-null  float64\n",
      " 29  Q068                      20499 non-null  float64\n",
      " 30  Q128                      20499 non-null  float64\n",
      " 31  P034                      20499 non-null  float64\n",
      " 32  Escolaridade              20499 non-null  int64  \n",
      " 33  Renda                     20499 non-null  int64  \n",
      " 34  Quantidade_de_trabalhos   20499 non-null  int64  \n",
      " 35  Jornada_de_Trabalho       20499 non-null  int64  \n",
      " 36  Mobilidade_assistida      20499 non-null  object \n",
      " 37  Avaliacao_do_plano        20499 non-null  int64  \n",
      " 38  Instituicao_do_plano      20499 non-null  float64\n",
      " 39  Cobertura_do_plano        20499 non-null  float64\n",
      " 40  Exposição_poluentes       20499 non-null  int64  \n",
      " 41  Dor_no_peito              20499 non-null  object \n",
      " 42  Atividade_fisica_semanal  20499 non-null  int64  \n",
      " 43  Início_tabagismo          20499 non-null  int64  \n",
      " 44  Tempo_parou_de_fumar      20499 non-null  int64  \n",
      " 45  Intensidade_fumo          20499 non-null  int64  \n",
      " 46  Doença_mental             20499 non-null  int64  \n",
      " 47  Consumo_de_álcool         20499 non-null  int64  \n",
      " 48  Faixa_IMC                 20499 non-null  int64  \n",
      "dtypes: float64(31), int64(16), object(2)\n",
      "memory usage: 7.7+ MB\n"
     ]
    }
   ],
   "source": [
    "df4.info()"
   ]
  },
  {
   "cell_type": "code",
   "execution_count": 21,
   "id": "330010cc",
   "metadata": {},
   "outputs": [],
   "source": [
    "df5 = pd.read_csv('../Bases/Criados/5_base_codificada.csv')"
   ]
  },
  {
   "cell_type": "code",
   "execution_count": 22,
   "id": "f9dfc347",
   "metadata": {},
   "outputs": [
    {
     "data": {
      "text/plain": [
       "['V0001',\n",
       " 'V0026',\n",
       " 'V0031',\n",
       " 'B001',\n",
       " 'C006',\n",
       " 'C008',\n",
       " 'C009',\n",
       " 'C011',\n",
       " 'I00102',\n",
       " 'N010',\n",
       " 'N011',\n",
       " 'N012',\n",
       " 'N016',\n",
       " 'P00901',\n",
       " 'P01101',\n",
       " 'P02001',\n",
       " 'P018',\n",
       " 'P02002',\n",
       " 'P02501',\n",
       " 'P02602',\n",
       " 'P02601',\n",
       " 'P04501',\n",
       " 'P04502',\n",
       " 'P06701',\n",
       " 'P068',\n",
       " 'Q00201',\n",
       " 'Q03001',\n",
       " 'Q060',\n",
       " 'Q06306',\n",
       " 'Q068',\n",
       " 'Q128',\n",
       " 'P034',\n",
       " 'Escolaridade',\n",
       " 'Renda',\n",
       " 'Quantidade_de_trabalhos',\n",
       " 'Jornada_de_Trabalho',\n",
       " 'Mobilidade_assistida',\n",
       " 'Avaliacao_do_plano',\n",
       " 'Instituicao_do_plano',\n",
       " 'Cobertura_do_plano',\n",
       " 'Exposição_poluentes',\n",
       " 'Dor_no_peito',\n",
       " 'Atividade_fisica_semanal',\n",
       " 'Início_tabagismo',\n",
       " 'Tempo_parou_de_fumar',\n",
       " 'Intensidade_fumo',\n",
       " 'Doença_mental',\n",
       " 'Consumo_de_álcool',\n",
       " 'Faixa_IMC']"
      ]
     },
     "execution_count": 22,
     "metadata": {},
     "output_type": "execute_result"
    }
   ],
   "source": [
    "list(df5.columns)"
   ]
  }
 ],
 "metadata": {
  "kernelspec": {
   "display_name": "Python 3",
   "language": "python",
   "name": "python3"
  },
  "language_info": {
   "codemirror_mode": {
    "name": "ipython",
    "version": 3
   },
   "file_extension": ".py",
   "mimetype": "text/x-python",
   "name": "python",
   "nbconvert_exporter": "python",
   "pygments_lexer": "ipython3",
   "version": "3.9.9"
  }
 },
 "nbformat": 4,
 "nbformat_minor": 5
}
