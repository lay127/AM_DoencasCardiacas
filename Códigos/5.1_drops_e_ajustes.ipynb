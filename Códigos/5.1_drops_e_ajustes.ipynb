{
 "cells": [
  {
   "cell_type": "code",
   "execution_count": 1,
   "id": "3774a562",
   "metadata": {},
   "outputs": [],
   "source": [
    "import pandas as pd\n",
    "import numpy as np"
   ]
  },
  {
   "cell_type": "code",
   "execution_count": 2,
   "id": "ecef4d3d",
   "metadata": {},
   "outputs": [],
   "source": [
    "df = pd.read_csv('../Bases/Criados/5.1_base_reduzida.csv')"
   ]
  },
  {
   "cell_type": "code",
   "execution_count": 3,
   "id": "1e409788",
   "metadata": {},
   "outputs": [],
   "source": [
    "df = df.drop(columns=['V0001', 'B001','C008', 'C011', 'Q068', 'Q128', 'Mobilidade_assistida', 'Avaliacao_do_plano', 'Instituicao_do_plano', 'Cobertura_do_plano', 'Dor_no_peito'])"
   ]
  },
  {
   "cell_type": "code",
   "execution_count": 4,
   "id": "539c2730",
   "metadata": {},
   "outputs": [],
   "source": [
    "df = df.rename(columns={\n",
    "    'V0026': 'Situação_censitária',\n",
    "    'C006': 'Sexo',\n",
    "    'C009': 'Cor/Raça',\n",
    "    'I00102': 'Plano_de_saúde',\n",
    "    'N010': 'Frequência_distúrbios_do_sono',\n",
    "    'N011': 'Frequência_falta_de_disposição',\n",
    "    'N012': 'Frequência_falta_de_interesse',\n",
    "    'N016': 'Frequência_sintomas_depressivos',\n",
    "    'P01101': 'Frequência_consumo_carne_vermelha',\n",
    "    'P02001': 'Frequência_consumo_suco_caixinha',\n",
    "    'P018': 'Frequência_consumo_frutas',\n",
    "    'P02002': 'Frequência_consumo_refrigerante',\n",
    "    'P02601': 'Consumo_de_sal',\n",
    "    'P04501': 'Frequência_consumo_de_televisão',\n",
    "    'P034': 'Exercício_físico',\n",
    "    'P06701': 'Uso_aparelhos_com_nicotina',\n",
    "    'P068': 'Fumo_passivo',\n",
    "    'Q00201': 'Hipertensão',\n",
    "    'Q03001': 'Diabetes',\n",
    "    'Q060': 'Colesterol_alto', \n",
    "    'Q06306': 'Doença_cardíaca'\n",
    "})"
   ]
  },
  {
   "cell_type": "code",
   "execution_count": 5,
   "id": "e12cbe19",
   "metadata": {},
   "outputs": [],
   "source": [
    "df.to_csv('../Bases/Criados/6_base_final.csv', index=False)"
   ]
  }
 ],
 "metadata": {
  "kernelspec": {
   "display_name": "Python 3",
   "language": "python",
   "name": "python3"
  },
  "language_info": {
   "codemirror_mode": {
    "name": "ipython",
    "version": 3
   },
   "file_extension": ".py",
   "mimetype": "text/x-python",
   "name": "python",
   "nbconvert_exporter": "python",
   "pygments_lexer": "ipython3",
   "version": "3.9.9"
  }
 },
 "nbformat": 4,
 "nbformat_minor": 5
}
