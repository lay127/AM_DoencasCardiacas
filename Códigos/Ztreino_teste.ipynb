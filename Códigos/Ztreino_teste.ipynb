{
 "cells": [
  {
   "cell_type": "markdown",
   "id": "fe78bdbb",
   "metadata": {},
   "source": [
    "### **Separação do dataset em variáveis independentes (X_prev) e dependentes (y_classe)** - ignora"
   ]
  },
  {
   "cell_type": "markdown",
   "id": "3f251cdf",
   "metadata": {},
   "source": [
    "Separação dos dados em variáveis preditoras (X_prev) e a variável alvo (y_classe), em que 'Q06306' é a variável que será prevista (target):\n",
    "\n",
    "- X_prev contém todas as colunas da base exceto 'Q06306'.\n",
    "- y_classe contém apenas a coluna 'Q06306'."
   ]
  },
  {
   "cell_type": "code",
   "execution_count": null,
   "id": "7775f8b1",
   "metadata": {},
   "outputs": [],
   "source": [
    "X_prev = base_encoded.drop(columns=['Q06306'])  # Todas as colunas exceto a target\n",
    "y_classe = base_encoded['Q06306']               # A coluna target"
   ]
  },
  {
   "cell_type": "markdown",
   "id": "99b6a4a4",
   "metadata": {},
   "source": [
    "Importação da função train_test_split da biblioteca scikit-learn, usada para dividir os dados em conjuntos de treino e teste:"
   ]
  },
  {
   "cell_type": "code",
   "execution_count": null,
   "id": "1774f343",
   "metadata": {},
   "outputs": [],
   "source": [
    "from sklearn.model_selection import train_test_split"
   ]
  },
  {
   "cell_type": "markdown",
   "id": "05b5461a",
   "metadata": {},
   "source": [
    "Exibição do conteúdo das variáveis preditoras (X_prev):"
   ]
  },
  {
   "cell_type": "code",
   "execution_count": null,
   "id": "0849a167",
   "metadata": {},
   "outputs": [],
   "source": [
    "X_prev"
   ]
  },
  {
   "cell_type": "markdown",
   "id": "1b2df511",
   "metadata": {},
   "source": [
    "Exibição do conteúdo da variável alvo (y_classe):"
   ]
  },
  {
   "cell_type": "code",
   "execution_count": null,
   "id": "465f0774",
   "metadata": {},
   "outputs": [],
   "source": [
    "y_classe"
   ]
  },
  {
   "cell_type": "markdown",
   "id": "c2b4e174",
   "metadata": {},
   "source": [
    "Visualização da forma (dimensões) de y_classe, ou seja, quantas amostras existem (geralmente uma tupla como (n,)):"
   ]
  },
  {
   "cell_type": "code",
   "execution_count": null,
   "id": "47dea6d5",
   "metadata": {},
   "outputs": [],
   "source": [
    "y_classe.shape"
   ]
  },
  {
   "cell_type": "markdown",
   "id": "56bed6ab",
   "metadata": {},
   "source": [
    "Divide os dados em conjunto de treino e de teste:\n",
    "\n",
    "- 80% para treino (X_treino, y_treino)\n",
    "- 20% para teste (X_teste, y_teste)\n",
    "- random_state=42 garante que a divisão seja reprodutível (mesmo resultado sempre)."
   ]
  },
  {
   "cell_type": "code",
   "execution_count": null,
   "id": "6f4b1331",
   "metadata": {},
   "outputs": [],
   "source": [
    "#X_train_ds, X_test_ds, y_train_ds, y_test_ds = train_test_split(X, y, test_size=0.3, random_state=123, shuffle=True, stratify=y)\n",
    "X_treino, X_teste, y_treino, y_teste = train_test_split(X_prev, y_classe, test_size = 0.20, random_state = 42)"
   ]
  },
  {
   "cell_type": "markdown",
   "id": "d1426617",
   "metadata": {},
   "source": [
    "Exibição do número de amostras e features no conjunto de treino: (instâncias e variáveis)"
   ]
  },
  {
   "cell_type": "code",
   "execution_count": null,
   "id": "9fa97dca",
   "metadata": {},
   "outputs": [],
   "source": [
    "X_treino.shape"
   ]
  },
  {
   "cell_type": "markdown",
   "id": "255ea472",
   "metadata": {},
   "source": [
    "Exibição do número de amostras e features no conjunto de teste: (instâncias e variáveis)"
   ]
  },
  {
   "cell_type": "code",
   "execution_count": null,
   "id": "9655652d",
   "metadata": {},
   "outputs": [],
   "source": [
    "X_teste.shape"
   ]
  },
  {
   "cell_type": "markdown",
   "id": "ca77ef7e",
   "metadata": {},
   "source": [
    "Exibição do conteúdo das variáveis preditoras do conjunto de teste:"
   ]
  },
  {
   "cell_type": "code",
   "execution_count": null,
   "id": "4517016b",
   "metadata": {},
   "outputs": [],
   "source": [
    "X_teste"
   ]
  },
  {
   "cell_type": "markdown",
   "id": "d448d1b4",
   "metadata": {},
   "source": [
    "Exibição dos valores da variável alvo no conjunto de treino:"
   ]
  },
  {
   "cell_type": "code",
   "execution_count": null,
   "id": "08facdf7",
   "metadata": {},
   "outputs": [],
   "source": [
    "y_treino"
   ]
  },
  {
   "cell_type": "markdown",
   "id": "890ab873",
   "metadata": {},
   "source": [
    "Exibição dos valores da variável alvo no conjunto de teste:"
   ]
  },
  {
   "cell_type": "code",
   "execution_count": null,
   "id": "f3b9181b",
   "metadata": {},
   "outputs": [],
   "source": [
    "y_teste"
   ]
  },
  {
   "cell_type": "markdown",
   "id": "933c5ca7",
   "metadata": {},
   "source": [
    "Para visualizar melhor os valores de treino e teste da variável alvo:"
   ]
  },
  {
   "cell_type": "code",
   "execution_count": null,
   "id": "4940efd1",
   "metadata": {},
   "outputs": [],
   "source": [
    "pd.concat([y_treino.reset_index(drop=True).rename(\"Treino\"), \n",
    "           y_teste.reset_index(drop=True).rename(\"Teste\")], axis=1)"
   ]
  }
 ],
 "metadata": {
  "language_info": {
   "name": "python"
  }
 },
 "nbformat": 4,
 "nbformat_minor": 5
}
