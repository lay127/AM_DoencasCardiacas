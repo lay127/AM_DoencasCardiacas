{
 "cells": [
  {
   "cell_type": "code",
   "execution_count": 1,
   "id": "02f747be",
   "metadata": {},
   "outputs": [],
   "source": [
    "import pandas as pd\n",
    "import numpy as np\n",
    "import seaborn as sns\n",
    "import matplotlib.pyplot as plt\n",
    "import plotly.express as px"
   ]
  },
  {
   "cell_type": "code",
   "execution_count": 2,
   "id": "4a132691",
   "metadata": {},
   "outputs": [],
   "source": [
    "base = pd.read_csv('../Bases/Criados/4_base_preenchida.csv')"
   ]
  },
  {
   "cell_type": "markdown",
   "id": "5823a2c1",
   "metadata": {},
   "source": [
    "##### Quantidade de instâncias de cada classe"
   ]
  },
  {
   "cell_type": "code",
   "execution_count": 3,
   "id": "217852db",
   "metadata": {},
   "outputs": [
    {
     "data": {
      "text/plain": [
       "(array([1., 2.]), array([ 1154, 19345], dtype=int64))"
      ]
     },
     "execution_count": 3,
     "metadata": {},
     "output_type": "execute_result"
    }
   ],
   "source": [
    "np.unique(base['Q06306'], return_counts=True)"
   ]
  },
  {
   "cell_type": "code",
   "execution_count": 4,
   "id": "21e31882",
   "metadata": {},
   "outputs": [
    {
     "data": {
      "text/plain": [
       "<Axes: xlabel='Q06306', ylabel='count'>"
      ]
     },
     "execution_count": 4,
     "metadata": {},
     "output_type": "execute_result"
    },
    {
     "data": {
      "image/png": "[encoded data removed]",
      "text/plain": [
       "<Figure size 640x480 with 1 Axes>"
      ]
     },
     "metadata": {},
     "output_type": "display_data"
    }
   ],
   "source": [
    "sns.countplot(x = base['Q06306'])"
   ]
  },
  {
   "cell_type": "markdown",
   "id": "0f21087d",
   "metadata": {},
   "source": [
    "### **Tratamento de dados categóricos**"
   ]
  },
  {
   "cell_type": "code",
   "execution_count": 5,
   "id": "8d68a3c5",
   "metadata": {},
   "outputs": [
    {
     "name": "stdout",
     "output_type": "stream",
     "text": [
      "Colunas com valores string:\n",
      "Index(['Mobilidade_assistida', 'Dor_no_peito'], dtype='object')\n"
     ]
    }
   ],
   "source": [
    "string_columns = base.select_dtypes(include='object').columns\n",
    "\n",
    "print(\"Colunas com valores string:\")\n",
    "print(string_columns)"
   ]
  },
  {
   "cell_type": "code",
   "execution_count": 6,
   "id": "d27c3599",
   "metadata": {},
   "outputs": [
    {
     "name": "stdout",
     "output_type": "stream",
     "text": [
      "Colunas com valores string:\n",
      "Index(['Mobilidade_assistida', 'Dor_no_peito'], dtype='object')\n"
     ]
    }
   ],
   "source": [
    "string_columns = base.select_dtypes(include='object').columns\n",
    "\n",
    "print(\"Colunas com valores string:\")\n",
    "print(string_columns)"
   ]
  },
  {
   "cell_type": "code",
   "execution_count": 7,
   "id": "d900db2f",
   "metadata": {},
   "outputs": [],
   "source": [
    "base.to_csv('../Bases/Criados/5_base_codificada.csv', index=False)"
   ]
  }
 ],
 "metadata": {
  "kernelspec": {
   "display_name": "Python 3",
   "language": "python",
   "name": "python3"
  },
  "language_info": {
   "codemirror_mode": {
    "name": "ipython",
    "version": 3
   },
   "file_extension": ".py",
   "mimetype": "text/x-python",
   "name": "python",
   "nbconvert_exporter": "python",
   "pygments_lexer": "ipython3",
   "version": "3.9.9"
  }
 },
 "nbformat": 4,
 "nbformat_minor": 5
}
