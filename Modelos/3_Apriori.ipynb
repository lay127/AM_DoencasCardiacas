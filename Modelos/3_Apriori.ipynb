{
 "cells": [
  {
   "cell_type": "code",
   "execution_count": 6,
   "id": "cfb46c1a",
   "metadata": {},
   "outputs": [],
   "source": [
    "# pip install mlxtend pandas"
   ]
  },
  {
   "cell_type": "code",
   "execution_count": null,
   "id": "3eb6ea17",
   "metadata": {},
   "outputs": [],
   "source": [
    "import pandas as pd\n",
    "from mlxtend.frequent_patterns import apriori, association_rules\n",
    "\n",
    "# Carrega a base\n",
    "base = pd.read_csv('../Bases/Criados/5.1_base_reduzida.csv')\n",
    "\n",
    "# Mapeia a variável alvo (1 = Doença, 2 = Saudável)\n",
    "base['Q03001'] = base['Q03001'].map({1: 'Doenca', 2: 'Saudavel'})\n",
    "\n",
    "# Converte todos os dados para string (necessário para get_dummies funcionar corretamente)\n",
    "df = base.astype(str)\n",
    "\n",
    "# One-hot encoding de todas as colunas\n",
    "df_encoded = pd.get_dummies(df)\n",
    "\n",
    "# Aplica Apriori com suporte e confiança altos para regras mais relevantes\n",
    "frequent_items = apriori(df_encoded, min_support=0.05, use_colnames=True, low_memory=True)\n",
    "\n",
    "# Gera regras com confiança mínima de 0.9\n",
    "regras = association_rules(frequent_items, metric=\"confidence\", min_threshold=0.9)\n",
    "\n",
    "# Filtra regras onde o consequente é a presença ou ausência da doença\n",
    "regras_alvo = regras[\n",
    "    (regras['consequents'].astype(str).str.contains(\"Q03001_Doenca\")) |\n",
    "    (regras['consequents'].astype(str).str.contains(\"Q03001_Saudavel\"))\n",
    "]\n",
    "\n",
    "# Ordena por lift decrescente\n",
    "regras_ordenadas = regras_alvo.sort_values(by='lift', ascending=False)\n",
    "\n",
    "# Mostra as 3 principais regras\n",
    "print(regras_ordenadas[['antecedents', 'consequents', 'support', 'confidence', 'lift']].head(3))"
   ]
  }
 ],
 "metadata": {
  "kernelspec": {
   "display_name": "Python 3",
   "language": "python",
   "name": "python3"
  },
  "language_info": {
   "codemirror_mode": {
    "name": "ipython",
    "version": 3
   },
   "file_extension": ".py",
   "mimetype": "text/x-python",
   "name": "python",
   "nbconvert_exporter": "python",
   "pygments_lexer": "ipython3",
   "version": "3.9.9"
  }
 },
 "nbformat": 4,
 "nbformat_minor": 5
}
